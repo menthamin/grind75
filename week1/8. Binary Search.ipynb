{
 "cells": [
  {
   "cell_type": "markdown",
   "source": [
    "# 704. Binary Search\n",
    "- https://leetcode.com/problems/binary-search/"
   ],
   "metadata": {
    "collapsed": false,
    "pycharm": {
     "name": "#%% md\n"
    }
   }
  },
  {
   "cell_type": "markdown",
   "source": [
    "## Using Python bulit-in function"
   ],
   "metadata": {
    "collapsed": false,
    "pycharm": {
     "name": "#%% md\n"
    }
   }
  },
  {
   "cell_type": "code",
   "execution_count": 2,
   "outputs": [],
   "source": [
    "nums = [-1,0,3,5,9,12]\n",
    "target = 9"
   ],
   "metadata": {
    "collapsed": false,
    "pycharm": {
     "name": "#%%\n"
    }
   }
  },
  {
   "cell_type": "code",
   "execution_count": 9,
   "outputs": [
    {
     "data": {
      "text/plain": "4"
     },
     "execution_count": 9,
     "metadata": {},
     "output_type": "execute_result"
    }
   ],
   "source": [
    "nums.index(target)"
   ],
   "metadata": {
    "collapsed": false,
    "pycharm": {
     "name": "#%%\n"
    }
   }
  },
  {
   "cell_type": "markdown",
   "source": [
    "## Binary Search"
   ],
   "metadata": {
    "collapsed": false,
    "pycharm": {
     "name": "#%% md\n"
    }
   }
  },
  {
   "cell_type": "code",
   "execution_count": 17,
   "outputs": [
    {
     "name": "stdout",
     "output_type": "stream",
     "text": [
      "4\n"
     ]
    }
   ],
   "source": [
    "nums = [-1,0,3,5,9,12]\n",
    "target = 9\n",
    "\n",
    "s = 0\n",
    "e = len(nums)\n",
    "\n",
    "while s <= e:\n",
    "    m = int((s + e) / 2)\n",
    "\n",
    "    if nums[m] == target:\n",
    "        print(m)\n",
    "        break\n",
    "    elif nums[m] > target:\n",
    "        e = m - 1\n",
    "    elif nums[m] < target:\n",
    "        s = m + 1"
   ],
   "metadata": {
    "collapsed": false,
    "pycharm": {
     "name": "#%%\n"
    }
   }
  },
  {
   "cell_type": "markdown",
   "source": [
    "## Error Case"
   ],
   "metadata": {
    "collapsed": false,
    "pycharm": {
     "name": "#%% md\n"
    }
   }
  },
  {
   "cell_type": "code",
   "execution_count": 21,
   "outputs": [],
   "source": [
    "nums = [-1,0,3,5,9,12]\n",
    "target = 13\n",
    "\n",
    "LEN = len(nums)\n",
    "\n",
    "s = 0\n",
    "e = LEN\n",
    "\n",
    "while s <= e:\n",
    "\n",
    "    m = int((s + e) / 2)\n",
    "    if m >= LEN or m < 0:\n",
    "        break\n",
    "    if nums[m] == target:\n",
    "        print(m)\n",
    "        break\n",
    "    elif nums[m] > target:\n",
    "        e = m - 1\n",
    "    elif nums[m] < target:\n",
    "        s = m + 1"
   ],
   "metadata": {
    "collapsed": false,
    "pycharm": {
     "name": "#%%\n"
    }
   }
  },
  {
   "cell_type": "code",
   "execution_count": 22,
   "outputs": [],
   "source": [
    "nums = [-1,0,3,5,9,12]\n",
    "target = 13\n",
    "\n",
    "LEN = len(nums)\n",
    "\n",
    "s = 0\n",
    "e = LEN - 1\n",
    "\n",
    "while s <= e:\n",
    "\n",
    "    m = int((s + e) / 2)\n",
    "    if m >= LEN or m < 0:\n",
    "        break\n",
    "    if nums[m] == target:\n",
    "        print(m)\n",
    "        break\n",
    "    elif nums[m] > target:\n",
    "        e = m - 1\n",
    "    elif nums[m] < target:\n",
    "        s = m + 1"
   ],
   "metadata": {
    "collapsed": false,
    "pycharm": {
     "name": "#%%\n"
    }
   }
  },
  {
   "cell_type": "code",
   "execution_count": null,
   "outputs": [],
   "source": [],
   "metadata": {
    "collapsed": false,
    "pycharm": {
     "name": "#%%\n"
    }
   }
  }
 ],
 "metadata": {
  "kernelspec": {
   "display_name": "Python 3",
   "language": "python",
   "name": "python3"
  },
  "language_info": {
   "codemirror_mode": {
    "name": "ipython",
    "version": 2
   },
   "file_extension": ".py",
   "mimetype": "text/x-python",
   "name": "python",
   "nbconvert_exporter": "python",
   "pygments_lexer": "ipython2",
   "version": "2.7.6"
  }
 },
 "nbformat": 4,
 "nbformat_minor": 0
}