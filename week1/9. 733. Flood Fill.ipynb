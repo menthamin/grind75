{
 "cells": [
  {
   "cell_type": "markdown",
   "source": [
    "# 733. Flood Fill\n",
    "- https://leetcode.com/problems/flood-fill/"
   ],
   "metadata": {
    "collapsed": false,
    "pycharm": {
     "name": "#%% md\n"
    }
   }
  },
  {
   "cell_type": "code",
   "execution_count": 94,
   "outputs": [
    {
     "data": {
      "text/plain": "[[2, 2, 2], [2, 2, 0], [2, 0, 1]]"
     },
     "execution_count": 94,
     "metadata": {},
     "output_type": "execute_result"
    }
   ],
   "source": [
    "image = [[1,1,1],[1,1,0],[1,0,1]]\n",
    "sr = 1\n",
    "sc = 1\n",
    "color = 2\n",
    "\n",
    "m = len(image)\n",
    "n = len(image[0])\n",
    "dr = [-1, 0, 1, 0]  # row\n",
    "dc = [0, 1, 0, -1]  # column\n",
    "\n",
    "check_image = [[0 for c in range(n)] for r in range(m)]\n",
    "start_value = image[sr][sc]\n",
    "\n",
    "def bfs(r, c):\n",
    "\n",
    "    for i in range(4):\n",
    "        rr = r + dr[i]\n",
    "        cc = c + dc[i]\n",
    "        if (0 <= rr < m) and (0 <= cc < n):\n",
    "            if image[rr][cc] == start_value and check_image[rr][cc] != -1:\n",
    "                check_image[rr][cc] = -1\n",
    "                image[rr][cc] = color\n",
    "                bfs(rr, cc)\n",
    "bfs(sr, sc)\n",
    "image"
   ],
   "metadata": {
    "collapsed": false,
    "pycharm": {
     "name": "#%%\n"
    }
   }
  },
  {
   "cell_type": "markdown",
   "source": [
    "## Debug Case 1"
   ],
   "metadata": {
    "collapsed": false,
    "pycharm": {
     "name": "#%% md\n"
    }
   }
  },
  {
   "cell_type": "code",
   "execution_count": 96,
   "outputs": [
    {
     "data": {
      "text/plain": "[[0, 0, 0], [0, 2, 0]]"
     },
     "execution_count": 96,
     "metadata": {},
     "output_type": "execute_result"
    }
   ],
   "source": [
    "image = [[0,0,0],[0,1,0]]\n",
    "sr = 1\n",
    "sc = 1\n",
    "color = 2\n",
    "\n",
    "m = len(image)\n",
    "n = len(image[0])\n",
    "dr = [-1, 0, 1, 0]  # row\n",
    "dc = [0, 1, 0, -1]  # column\n",
    "\n",
    "check_image = [[0 for c in range(n)] for r in range(m)]\n",
    "start_value = image[sr][sc]\n",
    "\n",
    "image[sr][sc] = color\n",
    "\n",
    "def bfs(r, c):\n",
    "\n",
    "    for i in range(4):\n",
    "        rr = r + dr[i]\n",
    "        cc = c + dc[i]\n",
    "        if (0 <= rr < m) and (0 <= cc < n):\n",
    "            if image[rr][cc] == start_value and check_image[rr][cc] != -1:\n",
    "                check_image[rr][cc] = -1\n",
    "                image[rr][cc] = color\n",
    "                bfs(rr, cc)\n",
    "bfs(sr, sc)\n",
    "image"
   ],
   "metadata": {
    "collapsed": false,
    "pycharm": {
     "name": "#%%\n"
    }
   }
  },
  {
   "cell_type": "markdown",
   "source": [
    "## Solution\n",
    "- https://leetcode.com/problems/flood-fill/solution/\n",
    "- 솔루션 보고 다시 한번 풀어보면 좋을 것 같다"
   ],
   "metadata": {
    "collapsed": false,
    "pycharm": {
     "name": "#%% md\n"
    }
   }
  },
  {
   "cell_type": "code",
   "execution_count": null,
   "outputs": [],
   "source": [],
   "metadata": {
    "collapsed": false,
    "pycharm": {
     "name": "#%%\n"
    }
   }
  }
 ],
 "metadata": {
  "kernelspec": {
   "display_name": "Python 3",
   "language": "python",
   "name": "python3"
  },
  "language_info": {
   "codemirror_mode": {
    "name": "ipython",
    "version": 2
   },
   "file_extension": ".py",
   "mimetype": "text/x-python",
   "name": "python",
   "nbconvert_exporter": "python",
   "pygments_lexer": "ipython2",
   "version": "2.7.6"
  }
 },
 "nbformat": 4,
 "nbformat_minor": 0
}