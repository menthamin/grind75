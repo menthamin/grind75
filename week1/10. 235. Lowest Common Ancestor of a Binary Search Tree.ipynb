{
 "cells": [
  {
   "cell_type": "markdown",
   "source": [
    "ransomNote = \"aa\", magazine = \"aab\"# 235. Lowest Common Ancestor of a Binary Search Tree\n",
    "- https://leetcode.com/problems/lowest-common-ancestor-of-a-binary-search-tree/"
   ],
   "metadata": {
    "collapsed": false,
    "pycharm": {
     "name": "#%% md\n"
    }
   }
  },
  {
   "cell_type": "code",
   "execution_count": 2,
   "outputs": [],
   "source": [
    "# Definition for a binary tree node.\n",
    "# class TreeNode:\n",
    "#     def __init__(self, x):\n",
    "#         self.val = x\n",
    "#         self.left = None\n",
    "#         self.right = None\n",
    "\n",
    "class Solution:\n",
    "    def lowestCommonAncestor(self, root: 'TreeNode', p: 'TreeNode', q: 'TreeNode') -> 'TreeNode':\n",
    "\n",
    "        if root.val == p.val or root.val == q.val:\n",
    "            return root\n",
    "\n",
    "        max_val = max(p.val, q.val)\n",
    "        min_val = min(p.val, q.val)\n",
    "\n",
    "        if min_val < root.val < max_val:\n",
    "            return root\n",
    "\n",
    "        if root.val > max_val:\n",
    "            return self.lowestCommonAncestor(root.left, p, q)\n",
    "        elif root.val < min_val:\n",
    "            return self.lowestCommonAncestor(root.right, p, q)\n",
    "\n"
   ],
   "metadata": {
    "collapsed": false,
    "pycharm": {
     "name": "#%%\n"
    }
   }
  },
  {
   "cell_type": "markdown",
   "source": [
    "## 참고자료\n",
    "- https://smlee729.wordpress.com/2018/03/25/algorithm-%EB%AC%B8%EC%A0%9C-lowest-common-ancestor-of-a-binary-search-tree/"
   ],
   "metadata": {
    "collapsed": false,
    "pycharm": {
     "name": "#%% md\n"
    }
   }
  },
  {
   "cell_type": "code",
   "execution_count": null,
   "outputs": [],
   "source": [],
   "metadata": {
    "collapsed": false,
    "pycharm": {
     "name": "#%%\n"
    }
   }
  }
 ],
 "metadata": {
  "kernelspec": {
   "display_name": "Python 3",
   "language": "python",
   "name": "python3"
  },
  "language_info": {
   "codemirror_mode": {
    "name": "ipython",
    "version": 2
   },
   "file_extension": ".py",
   "mimetype": "text/x-python",
   "name": "python",
   "nbconvert_exporter": "python",
   "pygments_lexer": "ipython2",
   "version": "2.7.6"
  }
 },
 "nbformat": 4,
 "nbformat_minor": 0
}