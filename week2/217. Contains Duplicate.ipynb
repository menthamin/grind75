{
 "cells": [
  {
   "cell_type": "markdown",
   "source": [
    "# 217. Contains Duplicate\n",
    "- https://leetcode.com/problems/contains-duplicate/description/"
   ],
   "metadata": {
    "collapsed": false,
    "pycharm": {
     "name": "#%% md\n"
    }
   }
  },
  {
   "cell_type": "code",
   "execution_count": 2,
   "outputs": [],
   "source": [
    "from typing import List, Set, Dict, Tuple"
   ],
   "metadata": {
    "collapsed": false,
    "pycharm": {
     "name": "#%%\n"
    }
   }
  },
  {
   "cell_type": "code",
   "execution_count": 3,
   "outputs": [],
   "source": [
    "class Solution:\n",
    "    def containsDuplicate(self, nums: List[int]) -> bool:\n",
    "\n",
    "        hashset = set()\n",
    "        for elem in nums:\n",
    "            if elem in hashset:\n",
    "                return True\n",
    "            hashset.add(elem)\n",
    "        return False\n",
    "\n",
    "        # hashset = set()\n",
    "\n",
    "        # for elem in nums:\n",
    "        #     if elem in hashset:\n",
    "        #         return True\n",
    "        #     hashset.add(elem)\n",
    "\n",
    "        # return False\n",
    "\n",
    "\n",
    "        # check_nums = set(nums)\n",
    "\n",
    "        # if len(check_nums) == len(nums):\n",
    "        #     return False\n",
    "        # else:\n",
    "        #     return Trued\n",
    "\n",
    "\n",
    "        # check_dict = {}\n",
    "\n",
    "        # for x in nums:\n",
    "        #     if x in check_dict:\n",
    "        #         return True\n",
    "        #     else:\n",
    "        #         check_dict[x] = 1\n",
    "\n",
    "        # return False"
   ],
   "metadata": {
    "collapsed": false,
    "pycharm": {
     "name": "#%%\n"
    }
   }
  },
  {
   "cell_type": "code",
   "execution_count": 8,
   "outputs": [],
   "source": [
    "solution = Solution()"
   ],
   "metadata": {
    "collapsed": false,
    "pycharm": {
     "name": "#%%\n"
    }
   }
  },
  {
   "cell_type": "code",
   "execution_count": 10,
   "outputs": [
    {
     "data": {
      "text/plain": "True"
     },
     "execution_count": 10,
     "metadata": {},
     "output_type": "execute_result"
    }
   ],
   "source": [
    "solution.containsDuplicate(nums = [1, 2, 3, 1])a"
   ],
   "metadata": {
    "collapsed": false,
    "pycharm": {
     "name": "#%%\n"
    }
   }
  },
  {
   "cell_type": "code",
   "execution_count": 11,
   "outputs": [
    {
     "data": {
      "text/plain": "True"
     },
     "execution_count": 11,
     "metadata": {},
     "output_type": "execute_result"
    }
   ],
   "source": [
    "solution.containsDuplicate(nums = [1, 2, 3, 1])"
   ],
   "metadata": {
    "collapsed": false,
    "pycharm": {
     "name": "#%%\n"
    }
   }
  },
  {
   "cell_type": "code",
   "execution_count": null,
   "outputs": [],
   "source": [],
   "metadata": {
    "collapsed": false,
    "pycharm": {
     "name": "#%%\n"
    }
   }
  }
 ],
 "metadata": {
  "kernelspec": {
   "display_name": "Python 3",
   "language": "python",
   "name": "python3"
  },
  "language_info": {
   "codemirror_mode": {
    "name": "ipython",
    "version": 2
   },
   "file_extension": ".py",
   "mimetype": "text/x-python",
   "name": "python",
   "nbconvert_exporter": "python",
   "pygments_lexer": "ipython2",
   "version": "2.7.6"
  }
 },
 "nbformat": 4,
 "nbformat_minor": 0
}