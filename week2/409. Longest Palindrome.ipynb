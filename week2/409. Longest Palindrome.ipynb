{
 "cells": [
  {
   "cell_type": "markdown",
   "source": [
    "# 409. Longest Palindrome\n",
    "- https://leetcode.com/problems/longest-palindrome/"
   ],
   "metadata": {
    "collapsed": false,
    "pycharm": {
     "name": "#%% md\n"
    }
   }
  },
  {
   "cell_type": "code",
   "execution_count": 38,
   "outputs": [],
   "source": [
    "s = \"abccccdd\""
   ],
   "metadata": {
    "collapsed": false,
    "pycharm": {
     "name": "#%%\n"
    }
   }
  },
  {
   "cell_type": "code",
   "execution_count": 39,
   "outputs": [],
   "source": [
    "alpha_dict = {}\n",
    "\n",
    "for x in s:\n",
    "    if x in alpha_dict:\n",
    "        alpha_dict[x] += 1\n",
    "    else:\n",
    "        alpha_dict[x] = 1"
   ],
   "metadata": {
    "collapsed": false,
    "pycharm": {
     "name": "#%%\n"
    }
   }
  },
  {
   "cell_type": "code",
   "execution_count": 39,
   "outputs": [],
   "source": [],
   "metadata": {
    "collapsed": false,
    "pycharm": {
     "name": "#%%\n"
    }
   }
  },
  {
   "cell_type": "code",
   "execution_count": 43,
   "outputs": [],
   "source": [
    "max_length = 1\n",
    "\n",
    "if len(alpha_dict) == 1:\n",
    "    max_length = alpha_dict[list(alpha_dict.keys())[0]]\n",
    "else:\n",
    "    for x in alpha_dict:\n",
    "        if alpha_dict[x] >= 2:\n",
    "            max_length += alpha_dict[x] // 2 * 2"
   ],
   "metadata": {
    "collapsed": false,
    "pycharm": {
     "name": "#%%\n"
    }
   }
  },
  {
   "cell_type": "code",
   "execution_count": 46,
   "outputs": [
    {
     "data": {
      "text/plain": "7"
     },
     "execution_count": 46,
     "metadata": {},
     "output_type": "execute_result"
    }
   ],
   "source": [
    "max_length"
   ],
   "metadata": {
    "collapsed": false,
    "pycharm": {
     "name": "#%%\n"
    }
   }
  },
  {
   "cell_type": "markdown",
   "source": [
    "## Debug error case"
   ],
   "metadata": {
    "collapsed": false,
    "pycharm": {
     "name": "#%% md\n"
    }
   }
  },
  {
   "cell_type": "code",
   "execution_count": 52,
   "outputs": [],
   "source": [
    "s = \"bb\""
   ],
   "metadata": {
    "collapsed": false,
    "pycharm": {
     "name": "#%%\n"
    }
   }
  },
  {
   "cell_type": "code",
   "execution_count": 53,
   "outputs": [],
   "source": [
    "alpha_dict = {}\n",
    "\n",
    "for x in s:\n",
    "    if x in alpha_dict:\n",
    "        alpha_dict[x] += 1\n",
    "    else:\n",
    "        alpha_dict[x] = 1"
   ],
   "metadata": {
    "collapsed": false,
    "pycharm": {
     "name": "#%%\n"
    }
   }
  },
  {
   "cell_type": "code",
   "execution_count": 54,
   "outputs": [],
   "source": [
    "max_length = 0\n",
    "\n",
    "if len(alpha_dict) == 1:\n",
    "    max_length = alpha_dict[list(alpha_dict.keys())[0]]\n",
    "else:\n",
    "    for x in alpha_dict:\n",
    "        if alpha_dict[x] >= 2:\n",
    "            max_length += alpha_dict[x] // 2 * 2"
   ],
   "metadata": {
    "collapsed": false,
    "pycharm": {
     "name": "#%%\n"
    }
   }
  },
  {
   "cell_type": "code",
   "execution_count": 55,
   "outputs": [
    {
     "data": {
      "text/plain": "2"
     },
     "execution_count": 55,
     "metadata": {},
     "output_type": "execute_result"
    }
   ],
   "source": [
    "max_lengtha"
   ],
   "metadata": {
    "collapsed": false,
    "pycharm": {
     "name": "#%%\n"
    }
   }
  },
  {
   "cell_type": "markdown",
   "source": [
    "## Debug error case 2"
   ],
   "metadata": {
    "collapsed": false,
    "pycharm": {
     "name": "#%% md\n"
    }
   }
  },
  {
   "cell_type": "code",
   "execution_count": 56,
   "outputs": [],
   "source": [
    "s = \"tattarrattat\""
   ],
   "metadata": {
    "collapsed": false,
    "pycharm": {
     "name": "#%%\n"
    }
   }
  },
  {
   "cell_type": "code",
   "execution_count": 57,
   "outputs": [
    {
     "data": {
      "text/plain": "12"
     },
     "execution_count": 57,
     "metadata": {},
     "output_type": "execute_result"
    }
   ],
   "source": [
    "len(s)"
   ],
   "metadata": {
    "collapsed": false,
    "pycharm": {
     "name": "#%%\n"
    }
   }
  },
  {
   "cell_type": "code",
   "execution_count": 62,
   "outputs": [],
   "source": [
    "alpha_dict = {}\n",
    "\n",
    "for x in s:\n",
    "    if x in alpha_dict:\n",
    "        alpha_dict[x] += 1\n",
    "    else:\n",
    "        alpha_dict[x] = 1"
   ],
   "metadata": {
    "collapsed": false,
    "pycharm": {
     "name": "#%%\n"
    }
   }
  },
  {
   "cell_type": "code",
   "execution_count": 67,
   "outputs": [],
   "source": [
    "max_length = 0\n",
    "\n",
    "for x in alpha_dict:\n",
    "    if alpha_dict[x] >= 2:\n",
    "        max_length += alpha_dict[x] // 2 * 2\n",
    "\n",
    "if len(s) % 2 == 0:\n",
    "    max_length += 1"
   ],
   "metadata": {
    "collapsed": false,
    "pycharm": {
     "name": "#%%\n"
    }
   }
  },
  {
   "cell_type": "code",
   "execution_count": 68,
   "outputs": [
    {
     "data": {
      "text/plain": "13"
     },
     "execution_count": 68,
     "metadata": {},
     "output_type": "execute_result"
    }
   ],
   "source": [
    "max_length"
   ],
   "metadata": {
    "collapsed": false,
    "pycharm": {
     "name": "#%%\n"
    }
   }
  },
  {
   "cell_type": "markdown",
   "source": [
    "## Solution\n",
    "- Case 별로 오류만 잡은거라 다시 한 번 보는게 좋을 것 같다"
   ],
   "metadata": {
    "collapsed": false,
    "pycharm": {
     "name": "#%% md\n"
    }
   }
  },
  {
   "cell_type": "code",
   "execution_count": 69,
   "outputs": [],
   "source": [
    "class Solution:\n",
    "    def longestPalindrome(self, s: str) -> int:\n",
    "\n",
    "        alpha_dict = {}\n",
    "\n",
    "        for x in s:\n",
    "            if x in alpha_dict:\n",
    "                alpha_dict[x] += 1\n",
    "            else:\n",
    "                alpha_dict[x] = 1\n",
    "\n",
    "        if len(s) == 1:\n",
    "            return 1\n",
    "\n",
    "        if len(alpha_dict) == 1:\n",
    "            max_length = alpha_dict[list(alpha_dict.keys())[0]]\n",
    "            return max_length\n",
    "\n",
    "        max_length = 0\n",
    "        all_even = True\n",
    "\n",
    "        for x in alpha_dict:\n",
    "\n",
    "            if alpha_dict[x] % 2 == 1:\n",
    "                all_even = False\n",
    "\n",
    "            if alpha_dict[x] >= 2:\n",
    "                max_length += alpha_dict[x] // 2 * 2\n",
    "\n",
    "        if all_even:\n",
    "            return max_length\n",
    "        else:\n",
    "            return max_length + 1"
   ],
   "metadata": {
    "collapsed": false,
    "pycharm": {
     "name": "#%%\n"
    }
   }
  },
  {
   "cell_type": "markdown",
   "source": [
    "## Leetcode official solution\n",
    "- https://leetcode.com/problems/longest-palindrome/solutions/127597/longest-palindrome/"
   ],
   "metadata": {
    "collapsed": false,
    "pycharm": {
     "name": "#%% md\n"
    }
   }
  },
  {
   "cell_type": "code",
   "execution_count": 2,
   "outputs": [],
   "source": [
    "import collections"
   ],
   "metadata": {
    "collapsed": false,
    "pycharm": {
     "name": "#%%\n"
    }
   }
  },
  {
   "cell_type": "code",
   "execution_count": 8,
   "outputs": [],
   "source": [
    "class Solution:\n",
    "    def longestPalindrome(self, s):\n",
    "        ans = 0\n",
    "        for v in collections.Counter(s).values():\n",
    "            ans += v / 2 * 2\n",
    "            if ans % 2 == 0 and v % 2 == 1:\n",
    "                ans += 1\n",
    "        return ans"
   ],
   "metadata": {
    "collapsed": false,
    "pycharm": {
     "name": "#%%\n"
    }
   }
  },
  {
   "cell_type": "code",
   "execution_count": 3,
   "outputs": [],
   "source": [
    "s = \"abccccdd\""
   ],
   "metadata": {
    "collapsed": false,
    "pycharm": {
     "name": "#%%\n"
    }
   }
  },
  {
   "cell_type": "code",
   "execution_count": 9,
   "outputs": [],
   "source": [
    "# 이거 잘못된거 같은데.."
   ],
   "metadata": {
    "collapsed": false,
    "pycharm": {
     "name": "#%%\n"
    }
   }
  },
  {
   "cell_type": "code",
   "execution_count": null,
   "outputs": [],
   "source": [],
   "metadata": {
    "collapsed": false,
    "pycharm": {
     "name": "#%%\n"
    }
   }
  },
  {
   "cell_type": "code",
   "execution_count": null,
   "outputs": [],
   "source": [],
   "metadata": {
    "collapsed": false,
    "pycharm": {
     "name": "#%%\n"
    }
   }
  }
 ],
 "metadata": {
  "kernelspec": {
   "display_name": "Python 3",
   "language": "python",
   "name": "python3"
  },
  "language_info": {
   "codemirror_mode": {
    "name": "ipython",
    "version": 2
   },
   "file_extension": ".py",
   "mimetype": "text/x-python",
   "name": "python",
   "nbconvert_exporter": "python",
   "pygments_lexer": "ipython2",
   "version": "2.7.6"
  }
 },
 "nbformat": 4,
 "nbformat_minor": 0
}