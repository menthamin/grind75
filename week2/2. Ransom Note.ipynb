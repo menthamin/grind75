{
 "cells": [
  {
   "cell_type": "markdown",
   "source": [
    "# 383. Ransom Note\n",
    "- https://leetcode.com/problems/ransom-note/"
   ],
   "metadata": {
    "collapsed": false,
    "pycharm": {
     "name": "#%% md\n"
    }
   }
  },
  {
   "cell_type": "markdown",
   "source": [
    "## Dict 사용 풀이"
   ],
   "metadata": {
    "collapsed": false,
    "pycharm": {
     "name": "#%% md\n"
    }
   }
  },
  {
   "cell_type": "code",
   "execution_count": 28,
   "outputs": [],
   "source": [
    "ransomNote = \"aa\"\n",
    "magazine = \"ab\""
   ],
   "metadata": {
    "collapsed": false,
    "pycharm": {
     "name": "#%%\n"
    }
   }
  },
  {
   "cell_type": "code",
   "execution_count": 29,
   "outputs": [],
   "source": [
    "r_dict = {}\n",
    "m_dict = {}\n",
    "\n",
    "for s in ransomNote:\n",
    "    if s in r_dict.keys():\n",
    "        r_dict[s] += 1\n",
    "    else:\n",
    "        r_dict[s] = 1\n",
    "\n",
    "for s in magazine:\n",
    "    if s in m_dict.keys():\n",
    "        m_dict[s] += 1\n",
    "    else:\n",
    "        m_dict[s] = 1\n",
    "\n",
    "for s in r_dict:\n",
    "    if s in m_dict.keys():\n",
    "        m_dict[s] >= r_dict[s]\n",
    "    else:\n",
    "        print(\"False\")"
   ],
   "metadata": {
    "collapsed": false,
    "pycharm": {
     "name": "#%%\n"
    }
   }
  },
  {
   "cell_type": "code",
   "execution_count": 30,
   "outputs": [
    {
     "data": {
      "text/plain": "{'a': 2}"
     },
     "execution_count": 30,
     "metadata": {},
     "output_type": "execute_result"
    }
   ],
   "source": [
    "r_dict"
   ],
   "metadata": {
    "collapsed": false,
    "pycharm": {
     "name": "#%%\n"
    }
   }
  },
  {
   "cell_type": "code",
   "execution_count": 33,
   "outputs": [
    {
     "data": {
      "text/plain": "1"
     },
     "execution_count": 33,
     "metadata": {},
     "output_type": "execute_result"
    }
   ],
   "source": [
    "m_dict[\"a\"]"
   ],
   "metadata": {
    "collapsed": false,
    "pycharm": {
     "name": "#%%\n"
    }
   }
  },
  {
   "cell_type": "markdown",
   "source": [
    "## 다른사람 풀이\n",
    "- https://leetcode.com/problems/ransom-note/discuss/2633040/Good-Python-Solution"
   ],
   "metadata": {
    "collapsed": false,
    "pycharm": {
     "name": "#%% md\n"
    }
   }
  },
  {
   "cell_type": "code",
   "execution_count": 35,
   "outputs": [],
   "source": [
    "class Solution(object):\n",
    "    def canConstruct(self, ransomNote, magazine):\n",
    "        \"\"\"\n",
    "        :type ransomNote: str\n",
    "        :type magazine: str\n",
    "        :rtype: bool\n",
    "        \"\"\"\n",
    "\n",
    "        letters = {}\n",
    "\n",
    "        for letter in magazine:\n",
    "            letters[letter] = 1 + letters.get(letter, 0)\n",
    "\n",
    "        for letter in ransomNote:\n",
    "            letters[letter] = letters.get(letter, 0) - 1\n",
    "            remaining = letters.get(letter)\n",
    "\n",
    "            if remaining < 0:\n",
    "                return False\n",
    "\n",
    "        return True"
   ],
   "metadata": {
    "collapsed": false,
    "pycharm": {
     "name": "#%%\n"
    }
   }
  },
  {
   "cell_type": "code",
   "execution_count": null,
   "outputs": [],
   "source": [],
   "metadata": {
    "collapsed": false,
    "pycharm": {
     "name": "#%%\n"
    }
   }
  }
 ],
 "metadata": {
  "kernelspec": {
   "display_name": "Python 3",
   "language": "python",
   "name": "python3"
  },
  "language_info": {
   "codemirror_mode": {
    "name": "ipython",
    "version": 2
   },
   "file_extension": ".py",
   "mimetype": "text/x-python",
   "name": "python",
   "nbconvert_exporter": "python",
   "pygments_lexer": "ipython2",
   "version": "2.7.6"
  }
 },
 "nbformat": 4,
 "nbformat_minor": 0
}