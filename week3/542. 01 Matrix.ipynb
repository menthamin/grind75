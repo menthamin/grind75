{
 "cells": [
  {
   "cell_type": "markdown",
   "source": [
    "# 542. 01 Matrix\n",
    "- https://leetcode.com/problems/01-matrix/\n",
    "- https://leetcode.com/problems/01-matrix/solutions/2466231/python-bfs-dp-with-explaination-o-m-n-o-1/?page=2"
   ],
   "metadata": {
    "collapsed": false,
    "pycharm": {
     "name": "#%% md\n"
    }
   }
  },
  {
   "cell_type": "code",
   "execution_count": 60,
   "outputs": [],
   "source": [
    "from collections import deque"
   ],
   "metadata": {
    "collapsed": false,
    "pycharm": {
     "name": "#%%\n"
    }
   }
  },
  {
   "cell_type": "code",
   "execution_count": 61,
   "outputs": [],
   "source": [
    "mat = [[0,0,0],[0,1,0],[1,1,1]]"
   ],
   "metadata": {
    "collapsed": false,
    "pycharm": {
     "name": "#%%\n"
    }
   }
  },
  {
   "cell_type": "code",
   "execution_count": 66,
   "outputs": [],
   "source": [
    "n = len(mat)\n",
    "m = len(mat[0])\n",
    "q = deque()\n",
    "visited = set()\n",
    "\n",
    "for i in range(n):\n",
    "    for j in range(m):\n",
    "        if mat[i][j] == 0:\n",
    "            q.append((i, j))\n",
    "            visited.add((i, j))\n",
    "while q:\n",
    "    row, col = q.popleft()\n",
    "    for dr, dc in [(-1, 0), (0, 1), (1, 0), (0, -1)]:\n",
    "        updated_row = row + dr\n",
    "        updated_col = col + dc\n",
    "\n",
    "        if 0 <= updated_row < n and 0 <= updated_col < m and (updated_row, updated_col) not in visited:\n",
    "            mat[updated_row][updated_col] = mat[row][col] + 1\n",
    "            visited.add((updated_row, updated_col))\n",
    "            q.append((updated_row, updated_col))"
   ],
   "metadata": {
    "collapsed": false,
    "pycharm": {
     "name": "#%%\n"
    }
   }
  },
  {
   "cell_type": "code",
   "execution_count": 65,
   "outputs": [
    {
     "data": {
      "text/plain": "[[3, 2, 3], [2, 1, 2], [1, 2, 1]]"
     },
     "execution_count": 65,
     "metadata": {},
     "output_type": "execute_result"
    }
   ],
   "source": [
    "mat"
   ],
   "metadata": {
    "collapsed": false,
    "pycharm": {
     "name": "#%%\n"
    }
   }
  },
  {
   "cell_type": "code",
   "execution_count": null,
   "outputs": [],
   "source": [],
   "metadata": {
    "collapsed": false,
    "pycharm": {
     "name": "#%%\n"
    }
   }
  }
 ],
 "metadata": {
  "kernelspec": {
   "display_name": "Python 3",
   "language": "python",
   "name": "python3"
  },
  "language_info": {
   "codemirror_mode": {
    "name": "ipython",
    "version": 2
   },
   "file_extension": ".py",
   "mimetype": "text/x-python",
   "name": "python",
   "nbconvert_exporter": "python",
   "pygments_lexer": "ipython2",
   "version": "2.7.6"
  }
 },
 "nbformat": 4,
 "nbformat_minor": 0
}