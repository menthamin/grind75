{
 "cells": [
  {
   "cell_type": "markdown",
   "source": [
    "# 영어 끝말잇기\n",
    "- https://school.programmers.co.kr/learn/courses/30/lessons/12981"
   ],
   "metadata": {
    "collapsed": false,
    "pycharm": {
     "name": "#%% md\n"
    }
   }
  },
  {
   "cell_type": "markdown",
   "source": [
    "## Case 1"
   ],
   "metadata": {
    "collapsed": false,
    "pycharm": {
     "name": "#%% md\n"
    }
   }
  },
  {
   "cell_type": "code",
   "execution_count": 41,
   "outputs": [
    {
     "name": "stdout",
     "output_type": "stream",
     "text": [
      "탈락\n",
      "3 3\n"
     ]
    }
   ],
   "source": [
    "import math\n",
    "\n",
    "\n",
    "n = 3\n",
    "words = [\"tank\", \"kick\", \"know\", \"wheel\", \"land\", \"dream\", \"mother\", \"robot\", \"tank\"]\n",
    "\n",
    "turn_len = math.ceil(len(words) / 3)\n",
    "used_words = {}\n",
    "last_word_end = None\n",
    "\n",
    "for i in range(turn_len):\n",
    "\n",
    "    turn_words = words[i * 3: (i + 1) * 3]\n",
    "\n",
    "    for j, word in enumerate(turn_words):\n",
    "\n",
    "        if word in used_words.keys():  # 2번 사용\n",
    "            print(\"탈락\")\n",
    "            print(i + 1, j + 1)\n",
    "            break\n",
    "        else:\n",
    "            used_words[word] = 1\n",
    "\n",
    "        if last_word_end:\n",
    "            if word[0] != last_word_end:  # 끝말 잇기 실패\n",
    "                print(\"탈락\")\n",
    "                print(i + 1, j + 1)\n",
    "                break\n",
    "            else:\n",
    "                last_word_end = word[-1]"
   ],
   "metadata": {
    "collapsed": false,
    "pycharm": {
     "name": "#%%\n"
    }
   }
  },
  {
   "cell_type": "markdown",
   "source": [
    "## Case 2"
   ],
   "metadata": {
    "collapsed": false,
    "pycharm": {
     "name": "#%% md\n"
    }
   }
  },
  {
   "cell_type": "code",
   "execution_count": 56,
   "outputs": [],
   "source": [
    "import math\n",
    "\n",
    "\n",
    "n = 5\n",
    "words = [\"hello\", \"observe\", \"effect\", \"take\", \"either\", \"recognize\", \"encourage\", \"ensure\", \"establish\", \"hang\", \"gather\", \"refer\", \"reference\", \"estimate\", \"executive\"]\n",
    "\n",
    "turn_len = math.ceil(len(words) / n)\n",
    "used_words = {}\n",
    "last_word_end = None\n",
    "\n",
    "for i in range(turn_len):\n",
    "\n",
    "    turn_words = words[i * n: (i + 1) * n]\n",
    "\n",
    "    for j, word in enumerate(turn_words):\n",
    "\n",
    "        if word in used_words.keys():  # 2번 사용\n",
    "            print(\"탈락\")\n",
    "            print(i + 1, j + 1)\n",
    "            break\n",
    "        else:\n",
    "            used_words[word] = 1\n",
    "\n",
    "        if last_word_end:\n",
    "            if word[0] != last_word_end:  # 끝말 잇기 실패\n",
    "                print(\"탈락\")\n",
    "                print(i + 1, j + 1)\n",
    "                break\n",
    "            else:\n",
    "                last_word_end = word[-1]\n",
    "        else:\n",
    "            last_word_end = word[-1]"
   ],
   "metadata": {
    "collapsed": false,
    "pycharm": {
     "name": "#%%\n"
    }
   }
  },
  {
   "cell_type": "markdown",
   "source": [
    "## Case 3"
   ],
   "metadata": {
    "collapsed": false,
    "pycharm": {
     "name": "#%% md\n"
    }
   }
  },
  {
   "cell_type": "code",
   "execution_count": 57,
   "outputs": [
    {
     "name": "stdout",
     "output_type": "stream",
     "text": [
      "탈락\n",
      "3 1\n",
      "탈락\n",
      "4 1\n"
     ]
    }
   ],
   "source": [
    "import math\n",
    "\n",
    "\n",
    "n = 2\n",
    "words = [\"hello\", \"one\", \"even\", \"never\", \"now\", \"world\", \"draw\"]\n",
    "\n",
    "turn_len = math.ceil(len(words) / n)\n",
    "used_words = {}\n",
    "last_word_end = None\n",
    "\n",
    "for i in range(turn_len):\n",
    "\n",
    "    turn_words = words[i * n: (i + 1) * n]\n",
    "\n",
    "    for j, word in enumerate(turn_words):\n",
    "\n",
    "        if word in used_words.keys():  # 2번 사용\n",
    "            print(\"탈락\")\n",
    "            print(i + 1, j + 1)\n",
    "            break\n",
    "        else:\n",
    "            used_words[word] = 1\n",
    "\n",
    "        if last_word_end:\n",
    "            if word[0] != last_word_end:  # 끝말 잇기 실패\n",
    "                print(\"탈락\")\n",
    "                print(i + 1, j + 1)\n",
    "                break\n",
    "            else:\n",
    "                last_word_end = word[-1]\n",
    "        else:\n",
    "            last_word_end = word[-1]"
   ],
   "metadata": {
    "collapsed": false,
    "pycharm": {
     "name": "#%%\n"
    }
   }
  },
  {
   "cell_type": "code",
   "execution_count": 44,
   "outputs": [
    {
     "data": {
      "text/plain": "'r'"
     },
     "execution_count": 44,
     "metadata": {},
     "output_type": "execute_result"
    }
   ],
   "source": [
    "last_word_end"
   ],
   "metadata": {
    "collapsed": false,
    "pycharm": {
     "name": "#%%\n"
    }
   }
  },
  {
   "cell_type": "markdown",
   "source": [
    "## Debug\n",
    "- 3을 모두 n으로 바꿔서 해결"
   ],
   "metadata": {
    "collapsed": false,
    "pycharm": {
     "name": "#%% md\n"
    }
   }
  },
  {
   "cell_type": "code",
   "execution_count": 44,
   "outputs": [],
   "source": [],
   "metadata": {
    "collapsed": false,
    "pycharm": {
     "name": "#%%\n"
    }
   }
  },
  {
   "cell_type": "code",
   "execution_count": 48,
   "outputs": [],
   "source": [
    "import math\n",
    "\n",
    "\n",
    "def solution(n, words):\n",
    "\n",
    "    turn_len = math.ceil(len(words) / 3)\n",
    "    used_words = {}\n",
    "    last_word_end = None\n",
    "\n",
    "    for i in range(turn_len):\n",
    "\n",
    "        turn_words = words[i * 3: (i + 1) * 3]\n",
    "\n",
    "        for j, word in enumerate(turn_words):\n",
    "\n",
    "            if word in used_words.keys():  # 2번 사용\n",
    "                return [j + 1, i + 1]\n",
    "            else:\n",
    "                used_words[word] = 1\n",
    "\n",
    "            if last_word_end:\n",
    "                if word[0] != last_word_end:  # 끝말 잇기 실패\n",
    "                    return [j + 1, i + 1]\n",
    "                else:\n",
    "                    last_word_end = word[-1]\n",
    "            else:\n",
    "                last_word_end = word[-1]\n",
    "\n",
    "    return [0, 0]"
   ],
   "metadata": {
    "collapsed": false,
    "pycharm": {
     "name": "#%%\n"
    }
   }
  },
  {
   "cell_type": "code",
   "execution_count": 46,
   "outputs": [],
   "source": [
    "n = 2\n",
    "words = [\"hello\", \"one\", \"even\", \"never\", \"now\", \"world\", \"draw\"]"
   ],
   "metadata": {
    "collapsed": false,
    "pycharm": {
     "name": "#%%\n"
    }
   }
  },
  {
   "cell_type": "code",
   "execution_count": 53,
   "outputs": [
    {
     "data": {
      "text/plain": "[2, 2]"
     },
     "execution_count": 53,
     "metadata": {},
     "output_type": "execute_result"
    }
   ],
   "source": [
    "solution(n, words)"
   ],
   "metadata": {
    "collapsed": false,
    "pycharm": {
     "name": "#%%\n"
    }
   }
  },
  {
   "cell_type": "code",
   "execution_count": 47,
   "outputs": [],
   "source": [],
   "metadata": {
    "collapsed": false,
    "pycharm": {
     "name": "#%%\n"
    }
   }
  }
 ],
 "metadata": {
  "kernelspec": {
   "display_name": "Python 3",
   "language": "python",
   "name": "python3"
  },
  "language_info": {
   "codemirror_mode": {
    "name": "ipython",
    "version": 2
   },
   "file_extension": ".py",
   "mimetype": "text/x-python",
   "name": "python",
   "nbconvert_exporter": "python",
   "pygments_lexer": "ipython2",
   "version": "2.7.6"
  }
 },
 "nbformat": 4,
 "nbformat_minor": 0
}